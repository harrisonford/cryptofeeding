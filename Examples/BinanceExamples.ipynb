{
 "cells": [
  {
   "cell_type": "markdown",
   "metadata": {
    "collapsed": true,
    "pycharm": {
     "name": "#%% md\n"
    }
   },
   "source": [
    "# Using Binance API feeding\n",
    "\n",
    "Here goes the link, explanation and all that.\n",
    "https://github.com/sammchardy/python-binance"
   ]
  },
  {
   "cell_type": "code",
   "execution_count": 1,
   "metadata": {
    "pycharm": {
     "name": "#%%\n"
    },
    "tags": []
   },
   "outputs": [
    {
     "output_type": "stream",
     "name": "stdout",
     "text": "feed me daddy\n"
    }
   ],
   "source": [
    "# here goes all the imports just because\n",
    "import json\n",
    "from binance.client import Client\n",
    "from externalized_functions import get_historical_klines, date_to_milliseconds\n",
    "import pandas as pd\n",
    "\n",
    "\n",
    "print('feed me daddy')"
   ]
  },
  {
   "cell_type": "markdown",
   "metadata": {
    "pycharm": {
     "name": "#%% md\n"
    }
   },
   "source": [
    "## Using a Client object to get historical data\n",
    "It´s not necessary to create an API to get historical data from Binance, we can use a dummy client with\n",
    "empty '' keys to get data."
   ]
  },
  {
   "cell_type": "code",
   "execution_count": 11,
   "metadata": {
    "pycharm": {
     "name": "#%%\n"
    }
   },
   "outputs": [],
   "source": [
    "# set some parameters\n",
    "symbol = \"ETHBTC\"  # trade-pair to extract\n",
    "start = \"1 Dec, 2017\"  # yes\n",
    "end = \"1 Jan, 2018\"  # uhu\n",
    "interval = Client.KLINE_INTERVAL_1MINUTE  # granularity\n",
    "fileout = \"Binance_{}_{}_{}-{}.csv\".format(symbol, interval, date_to_milliseconds(start), date_to_milliseconds(end))\n",
    "\n",
    "# let's get it\n",
    "lines = get_historical_klines(symbol, interval, start, end)\n",
    "\n",
    "# convert to dataframe so we can keep playing and save it to a csv file\n",
    "columns = ['Open_time', 'Open', 'High', 'Low','Close', 'Volume', 'Close_time', 'Quote_asset_volume',\n",
    "           'Number_of_trades', 'Taker_buy_base_asset_volume', 'Taker_buy_quote_asset_volume', 'Ignore']\n",
    "df = pd.DataFrame(lines, columns=columns)\n",
    "df.to_csv(fileout, index=False)"
   ]
  },
  {
   "cell_type": "markdown",
   "metadata": {
    "pycharm": {
     "name": "#%% md\n"
    }
   },
   "source": [
    "## Plotting some data extracted\n",
    "\n",
    "Let´s make some graphs just out of curiosity."
   ]
  },
  {
   "cell_type": "code",
   "execution_count": null,
   "metadata": {
    "pycharm": {
     "name": "#%%\n"
    }
   },
   "outputs": [],
   "source": [
    "print('here goes the graph')"
   ]
  },
  {
   "cell_type": "markdown",
   "metadata": {},
   "source": [
    "## Create an API on Binance\n",
    "From your online Binance profile -> API Management, create an API and give it some label. An API key and secret key\n",
    "will be generated, there you can config some restrictions like a hardcode on the IP address to access and 'read' or\n",
    "'withdrawal' permissions.\n",
    "\n",
    "Once the API is created I save it in a JSON and don't share it with anyone, it´s better if you save it because the\n",
    "secret key will be visible for sometime and then forever hidden, to dump in a json you can use the following simple\n",
    "code:"
   ]
  },
  {
   "cell_type": "code",
   "execution_count": null,
   "metadata": {
    "pycharm": {
     "name": "#%%\n"
    }
   },
   "outputs": [],
   "source": [
    "# create a json file with my keys\n",
    "api_key = 'my_beautiful_key'\n",
    "secret_key = 'life_is_wonderful'\n",
    "filename = 'binance-python-credentials.json'\n",
    "\n",
    "json.dump(dict(api_key=api_key, secret_key=secret_key), open(filename, 'w'))\n"
   ]
  }
 ],
 "metadata": {
  "kernelspec": {
   "display_name": "Python 3",
   "language": "python",
   "name": "python3"
  },
  "language_info": {
   "codemirror_mode": {
    "name": "ipython",
    "version": 3
   },
   "file_extension": ".py",
   "mimetype": "text/x-python",
   "name": "python",
   "nbconvert_exporter": "python",
   "pygments_lexer": "ipython3",
   "version": "3.8.2-final"
  }
 },
 "nbformat": 4,
 "nbformat_minor": 1
}