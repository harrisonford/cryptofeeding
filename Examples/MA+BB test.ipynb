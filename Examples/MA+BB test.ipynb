{
 "metadata": {
  "language_info": {
   "codemirror_mode": {
    "name": "ipython",
    "version": 3
   },
   "file_extension": ".py",
   "mimetype": "text/x-python",
   "name": "python",
   "nbconvert_exporter": "python",
   "pygments_lexer": "ipython3",
   "version": "3.8.2-final"
  },
  "orig_nbformat": 2,
  "kernelspec": {
   "name": "python_defaultSpec_1600117811035",
   "display_name": "Python 3.8.2 32-bit ('venv': venv)"
  }
 },
 "nbformat": 4,
 "nbformat_minor": 2,
 "cells": [
  {
   "source": [
    "# Load price data "
   ],
   "cell_type": "markdown",
   "metadata": {}
  },
  {
   "cell_type": "code",
   "execution_count": 1,
   "metadata": {},
   "outputs": [],
   "source": [
    "import numpy as np\n",
    "import pandas as pd\n",
    "import finplot as fplt\n",
    "import json"
   ]
  },
  {
   "cell_type": "code",
   "execution_count": 2,
   "metadata": {},
   "outputs": [
    {
     "output_type": "execute_result",
     "data": {
      "text/plain": "                 time      open      high       low     close   volume  \\\n0       1567987200000  10391.63  10391.63  10391.63  10391.63    0.000   \n1       1567987260000  10391.63  10391.63  10391.63  10391.63    0.000   \n2       1567987320000  10391.63  10391.63  10391.63  10391.63    0.000   \n3       1567987380000  10391.63  10391.63  10391.63  10391.63    0.000   \n4       1567987440000  10391.63  10391.63  10391.63  10391.63    0.000   \n...               ...       ...       ...       ...       ...      ...   \n515516  1598918160000  11666.84  11666.84  11658.77  11659.74   48.465   \n515517  1598918220000  11659.73  11660.04  11655.21  11655.22   51.387   \n515518  1598918280000  11655.22  11659.17  11654.00  11658.11   48.126   \n515519  1598918340000  11658.11  11660.53  11658.11  11658.11   78.462   \n515520  1598918400000  11658.11  11672.22  11653.39  11668.02  254.473   \n\n           Close_time  Quote_asset_volume  Number_of_trades  \\\n0       1567987259999        0.000000e+00                 0   \n1       1567987319999        0.000000e+00                 0   \n2       1567987379999        0.000000e+00                 0   \n3       1567987439999        0.000000e+00                 0   \n4       1567987499999        0.000000e+00                 0   \n...               ...                 ...               ...   \n515516  1598918219999        5.652471e+05               223   \n515517  1598918279999        5.990682e+05               245   \n515518  1598918339999        5.610001e+05               277   \n515519  1598918399999        9.147883e+05               245   \n515520  1598918459999        2.967938e+06               669   \n\n        Taker_buy_base_asset_volume  Taker_buy_quote_asset_volume  Ignore  \n0                             0.000                  0.000000e+00       0  \n1                             0.000                  0.000000e+00       0  \n2                             0.000                  0.000000e+00       0  \n3                             0.000                  0.000000e+00       0  \n4                             0.000                  0.000000e+00       0  \n...                             ...                           ...     ...  \n515516                       22.097                  2.576819e+05       0  \n515517                       11.315                  1.318951e+05       0  \n515518                       21.635                  2.521977e+05       0  \n515519                       21.574                  2.515419e+05       0  \n515520                      162.976                  1.901060e+06       0  \n\n[515521 rows x 12 columns]",
      "text/html": "<div>\n<style scoped>\n    .dataframe tbody tr th:only-of-type {\n        vertical-align: middle;\n    }\n\n    .dataframe tbody tr th {\n        vertical-align: top;\n    }\n\n    .dataframe thead th {\n        text-align: right;\n    }\n</style>\n<table border=\"1\" class=\"dataframe\">\n  <thead>\n    <tr style=\"text-align: right;\">\n      <th></th>\n      <th>time</th>\n      <th>open</th>\n      <th>high</th>\n      <th>low</th>\n      <th>close</th>\n      <th>volume</th>\n      <th>Close_time</th>\n      <th>Quote_asset_volume</th>\n      <th>Number_of_trades</th>\n      <th>Taker_buy_base_asset_volume</th>\n      <th>Taker_buy_quote_asset_volume</th>\n      <th>Ignore</th>\n    </tr>\n  </thead>\n  <tbody>\n    <tr>\n      <th>0</th>\n      <td>1567987200000</td>\n      <td>10391.63</td>\n      <td>10391.63</td>\n      <td>10391.63</td>\n      <td>10391.63</td>\n      <td>0.000</td>\n      <td>1567987259999</td>\n      <td>0.000000e+00</td>\n      <td>0</td>\n      <td>0.000</td>\n      <td>0.000000e+00</td>\n      <td>0</td>\n    </tr>\n    <tr>\n      <th>1</th>\n      <td>1567987260000</td>\n      <td>10391.63</td>\n      <td>10391.63</td>\n      <td>10391.63</td>\n      <td>10391.63</td>\n      <td>0.000</td>\n      <td>1567987319999</td>\n      <td>0.000000e+00</td>\n      <td>0</td>\n      <td>0.000</td>\n      <td>0.000000e+00</td>\n      <td>0</td>\n    </tr>\n    <tr>\n      <th>2</th>\n      <td>1567987320000</td>\n      <td>10391.63</td>\n      <td>10391.63</td>\n      <td>10391.63</td>\n      <td>10391.63</td>\n      <td>0.000</td>\n      <td>1567987379999</td>\n      <td>0.000000e+00</td>\n      <td>0</td>\n      <td>0.000</td>\n      <td>0.000000e+00</td>\n      <td>0</td>\n    </tr>\n    <tr>\n      <th>3</th>\n      <td>1567987380000</td>\n      <td>10391.63</td>\n      <td>10391.63</td>\n      <td>10391.63</td>\n      <td>10391.63</td>\n      <td>0.000</td>\n      <td>1567987439999</td>\n      <td>0.000000e+00</td>\n      <td>0</td>\n      <td>0.000</td>\n      <td>0.000000e+00</td>\n      <td>0</td>\n    </tr>\n    <tr>\n      <th>4</th>\n      <td>1567987440000</td>\n      <td>10391.63</td>\n      <td>10391.63</td>\n      <td>10391.63</td>\n      <td>10391.63</td>\n      <td>0.000</td>\n      <td>1567987499999</td>\n      <td>0.000000e+00</td>\n      <td>0</td>\n      <td>0.000</td>\n      <td>0.000000e+00</td>\n      <td>0</td>\n    </tr>\n    <tr>\n      <th>...</th>\n      <td>...</td>\n      <td>...</td>\n      <td>...</td>\n      <td>...</td>\n      <td>...</td>\n      <td>...</td>\n      <td>...</td>\n      <td>...</td>\n      <td>...</td>\n      <td>...</td>\n      <td>...</td>\n      <td>...</td>\n    </tr>\n    <tr>\n      <th>515516</th>\n      <td>1598918160000</td>\n      <td>11666.84</td>\n      <td>11666.84</td>\n      <td>11658.77</td>\n      <td>11659.74</td>\n      <td>48.465</td>\n      <td>1598918219999</td>\n      <td>5.652471e+05</td>\n      <td>223</td>\n      <td>22.097</td>\n      <td>2.576819e+05</td>\n      <td>0</td>\n    </tr>\n    <tr>\n      <th>515517</th>\n      <td>1598918220000</td>\n      <td>11659.73</td>\n      <td>11660.04</td>\n      <td>11655.21</td>\n      <td>11655.22</td>\n      <td>51.387</td>\n      <td>1598918279999</td>\n      <td>5.990682e+05</td>\n      <td>245</td>\n      <td>11.315</td>\n      <td>1.318951e+05</td>\n      <td>0</td>\n    </tr>\n    <tr>\n      <th>515518</th>\n      <td>1598918280000</td>\n      <td>11655.22</td>\n      <td>11659.17</td>\n      <td>11654.00</td>\n      <td>11658.11</td>\n      <td>48.126</td>\n      <td>1598918339999</td>\n      <td>5.610001e+05</td>\n      <td>277</td>\n      <td>21.635</td>\n      <td>2.521977e+05</td>\n      <td>0</td>\n    </tr>\n    <tr>\n      <th>515519</th>\n      <td>1598918340000</td>\n      <td>11658.11</td>\n      <td>11660.53</td>\n      <td>11658.11</td>\n      <td>11658.11</td>\n      <td>78.462</td>\n      <td>1598918399999</td>\n      <td>9.147883e+05</td>\n      <td>245</td>\n      <td>21.574</td>\n      <td>2.515419e+05</td>\n      <td>0</td>\n    </tr>\n    <tr>\n      <th>515520</th>\n      <td>1598918400000</td>\n      <td>11658.11</td>\n      <td>11672.22</td>\n      <td>11653.39</td>\n      <td>11668.02</td>\n      <td>254.473</td>\n      <td>1598918459999</td>\n      <td>2.967938e+06</td>\n      <td>669</td>\n      <td>162.976</td>\n      <td>1.901060e+06</td>\n      <td>0</td>\n    </tr>\n  </tbody>\n</table>\n<p>515521 rows × 12 columns</p>\n</div>"
     },
     "metadata": {},
     "execution_count": 2
    }
   ],
   "source": [
    "symbol = 'FUTURES BTC-USDT'\n",
    "#df = pd.read_csv('Binance_BTCUSDT_1m_1596240000000-1598918400000.csv')\n",
    "#df = pd.read_csv('Binance_BTCUSDT_1m_1567987200000-1598918400000.csv', nrows=5000)\n",
    "df = pd.read_csv('Binance_BTCUSDT_1m_1567987200000-1598918400000.csv')\n",
    "df = df.rename(columns={'Open_time':'time', 'Open':'open', 'Close':'close', 'High':'high', 'Low':'low', 'Volume':'volume'})\n",
    "\n",
    "np.size(df['close'])\n",
    "df"
   ]
  },
  {
   "source": [
    "# MA 200 + BB 200 strategy backtesting\n",
    "\n",
    "* Plot MA 200 and BB 200 with (3 * standard deviation)\n",
    "* When price breaks MA 200 enter two positions\n",
    "    * Position 1 exits with a profit of 2%\n",
    "    * Position 2 exits in next MA 200 cross"
   ],
   "cell_type": "markdown",
   "metadata": {}
  },
  {
   "cell_type": "code",
   "execution_count": 3,
   "metadata": {
    "tags": []
   },
   "outputs": [],
   "source": [
    "window = 200\n",
    "\n",
    "# Calculate MA\n",
    "ma_200 = df['close'].rolling(window).mean()\n",
    "ma_20 = df['close'].rolling(20).mean()\n",
    "\n",
    "# Calculate Bollinger Bands\n",
    "bb_top_3delta = ma_200 + 3 * df['close'].rolling(window).std()\n",
    "bb_bot_3delta = ma_200 - 3 * df['close'].rolling(window).std()"
   ]
  },
  {
   "cell_type": "code",
   "execution_count": 4,
   "metadata": {
    "tags": []
   },
   "outputs": [],
   "source": [
    "def crossovers(price, ma):\n",
    "    result = np.zeros(np.size(price))\n",
    "    for i,x in enumerate(ma):\n",
    "        result[i] = None\n",
    "        if(x is not None):\n",
    "            if(price[i-1] < x and price[i] > x):\n",
    "                result[i] = price[i]\n",
    "            elif(price[i-1] > x and price[i] < x):\n",
    "                result[i] = price[i]\n",
    "    return result\n",
    "\n",
    "cross = crossovers(df['close'].values, ma_200.values)"
   ]
  },
  {
   "cell_type": "code",
   "execution_count": 5,
   "metadata": {
    "tags": []
   },
   "outputs": [],
   "source": [
    "def remove_frequent_entries(cross, miss):\n",
    "    m = 0\n",
    "    cleaning = False\n",
    "    result = np.zeros(np.size(cross))\n",
    "    for i,x in enumerate(cross):\n",
    "        result[i] = None\n",
    "        if(x is not None):\n",
    "            if(cleaning == True):\n",
    "                result[i] = None\n",
    "                m = m + 1\n",
    "            if(m >= miss):\n",
    "                m = 0\n",
    "                cleaning = False\n",
    "            if(cleaning == False and x > 0):\n",
    "                result[i] = x\n",
    "                cleaning = True\n",
    "                #print('cleaning ' + str(i) + ' ' + str(result[i]))\n",
    "            \n",
    "    return result\n",
    "                \n",
    "cross_clean = remove_frequent_entries(cross, 30)"
   ]
  },
  {
   "source": [
    "# Plot"
   ],
   "cell_type": "markdown",
   "metadata": {}
  },
  {
   "cell_type": "code",
   "execution_count": 6,
   "metadata": {},
   "outputs": [],
   "source": [
    "try:\n",
    "    # create two plots\n",
    "    ax, ax2 = fplt.create_plot(symbol, rows=2)\n",
    "\n",
    "    # plot candle sticks\n",
    "    candles = df[['time','open','close','high','low']]\n",
    "    fplt.candlestick_ochl(candles, ax=ax)\n",
    "\n",
    "    # overlay volume on the top plot\n",
    "    volumes = df[['time','open','close','volume']]\n",
    "    fplt.volume_ocv(volumes, ax=ax.overlay())\n",
    "\n",
    "    # Plot indicators\n",
    "    fplt.plot(df['time'], ma_200, ax=ax, legend='ma_200')\n",
    "    fplt.plot(df['time'], ma_20, ax=ax, legend='ma_20')\n",
    "    fplt.plot(df['time'], cross_clean, ax=ax, legend='crossover', width=2, style='o', color='#0591fc')\n",
    "    #fplt.plot(df['time'], cross_clean, ax=ax, legend='crossover_clean', width=6, style='^')\n",
    "    #fplt.plot(df['time'], bb_bot_3delta, ax=ax, legend='bb_3d_bot')\n",
    "\n",
    "    #fplt.plot(df['time'], df['close'].iloc[position_index], ax=ax, legend='position', style='^')\n",
    "    #fplt.plot(crossing_dates, crossing_price, ax=ax2, legend='cross')\n",
    "\n",
    "    # restore view (X-position and zoom)\n",
    "    fplt.autoviewrestore()\n",
    "\n",
    "    # we're done\n",
    "    fplt.show()\n",
    "except:\n",
    "    pass"
   ]
  },
  {
   "cell_type": "code",
   "execution_count": 6,
   "metadata": {},
   "outputs": [],
   "source": [
    "\n"
   ]
  }
 ]
}