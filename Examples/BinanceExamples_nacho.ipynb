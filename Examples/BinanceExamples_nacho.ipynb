{
 "cells": [
  {
   "cell_type": "markdown",
   "metadata": {
    "collapsed": true,
    "pycharm": {
     "name": "#%% md\n"
    }
   },
   "source": [
    "# Using Binance API feeding\n",
    "\n",
    "Here goes the link, explanation and all that.\n",
    "https://github.com/sammchardy/python-binance"
   ]
  },
  {
   "cell_type": "code",
   "execution_count": 2,
   "metadata": {
    "pycharm": {
     "name": "#%%\n"
    },
    "tags": []
   },
   "outputs": [
    {
     "output_type": "stream",
     "name": "stdout",
     "text": "feed me daddy\n"
    }
   ],
   "source": [
    "# here goes all the imports just because\n",
    "import json\n",
    "from binance.client import Client\n",
    "from externalized_functions import get_historical_klines, date_to_milliseconds, get_futures_historical_klines\n",
    "import pandas as pd\n",
    "\n",
    "\n",
    "print('feed me daddy')"
   ]
  },
  {
   "cell_type": "markdown",
   "metadata": {
    "pycharm": {
     "name": "#%% md\n"
    }
   },
   "source": [
    "## Using a Client object to get historical data\n",
    "It´s not necessary to create an API to get historical data from Binance, we can use a dummy client with\n",
    "empty '' keys to get data."
   ]
  },
  {
   "cell_type": "code",
   "execution_count": 3,
   "metadata": {
    "pycharm": {
     "name": "#%%\n"
    }
   },
   "outputs": [],
   "source": [
    "# set some parameters\n",
    "symbol = \"BTCUSDT\"  # trade-pair to extract\n",
    "start = \"9 Sep, 2019\"  # yes\n",
    "end = \"1 Sep, 2020\"  # uhu\n",
    "interval = Client.KLINE_INTERVAL_1MINUTE  # granularity\n",
    "fileout = \"Binance_{}_{}_{}-{}.csv\".format(symbol, interval, date_to_milliseconds(start), date_to_milliseconds(end))\n",
    "\n",
    "# let's get it\n",
    "lines = get_futures_historical_klines(symbol, interval, start, end)\n",
    "\n",
    "# convert to dataframe so we can keep playing and save it to a csv file\n",
    "columns = ['Open_time', 'Open', 'High', 'Low','Close', 'Volume', 'Close_time', 'Quote_asset_volume',\n",
    "           'Number_of_trades', 'Taker_buy_base_asset_volume', 'Taker_buy_quote_asset_volume', 'Ignore']\n",
    "df = pd.DataFrame(lines, columns=columns)\n",
    "df.to_csv(fileout, index=False)"
   ]
  },
  {
   "cell_type": "markdown",
   "metadata": {
    "pycharm": {
     "name": "#%% md\n"
    }
   },
   "source": [
    "## Plotting some data extracted\n",
    "\n",
    "Let´s make some graphs just out of curiosity."
   ]
  },
  {
   "cell_type": "code",
   "execution_count": 3,
   "metadata": {
    "pycharm": {
     "name": "#%%\n"
    }
   },
   "outputs": [
    {
     "output_type": "execute_result",
     "data": {
      "text/plain": "                 time      open      high       low     close   volume  \\\n0       1567987200000  10391.63  10391.63  10391.63  10391.63    0.000   \n1       1567987260000  10391.63  10391.63  10391.63  10391.63    0.000   \n2       1567987320000  10391.63  10391.63  10391.63  10391.63    0.000   \n3       1567987380000  10391.63  10391.63  10391.63  10391.63    0.000   \n4       1567987440000  10391.63  10391.63  10391.63  10391.63    0.000   \n...               ...       ...       ...       ...       ...      ...   \n515516  1598918160000  11666.84  11666.84  11658.77  11659.74   48.465   \n515517  1598918220000  11659.73  11660.04  11655.21  11655.22   51.387   \n515518  1598918280000  11655.22  11659.17  11654.00  11658.11   48.126   \n515519  1598918340000  11658.11  11660.53  11658.11  11658.11   78.462   \n515520  1598918400000  11658.11  11672.22  11653.39  11668.02  254.473   \n\n           Close_time  Quote_asset_volume  Number_of_trades  \\\n0       1567987259999        0.000000e+00                 0   \n1       1567987319999        0.000000e+00                 0   \n2       1567987379999        0.000000e+00                 0   \n3       1567987439999        0.000000e+00                 0   \n4       1567987499999        0.000000e+00                 0   \n...               ...                 ...               ...   \n515516  1598918219999        5.652471e+05               223   \n515517  1598918279999        5.990682e+05               245   \n515518  1598918339999        5.610001e+05               277   \n515519  1598918399999        9.147883e+05               245   \n515520  1598918459999        2.967938e+06               669   \n\n        Taker_buy_base_asset_volume  Taker_buy_quote_asset_volume  Ignore  \n0                             0.000                  0.000000e+00       0  \n1                             0.000                  0.000000e+00       0  \n2                             0.000                  0.000000e+00       0  \n3                             0.000                  0.000000e+00       0  \n4                             0.000                  0.000000e+00       0  \n...                             ...                           ...     ...  \n515516                       22.097                  2.576819e+05       0  \n515517                       11.315                  1.318951e+05       0  \n515518                       21.635                  2.521977e+05       0  \n515519                       21.574                  2.515419e+05       0  \n515520                      162.976                  1.901060e+06       0  \n\n[515521 rows x 12 columns]",
      "text/html": "<div>\n<style scoped>\n    .dataframe tbody tr th:only-of-type {\n        vertical-align: middle;\n    }\n\n    .dataframe tbody tr th {\n        vertical-align: top;\n    }\n\n    .dataframe thead th {\n        text-align: right;\n    }\n</style>\n<table border=\"1\" class=\"dataframe\">\n  <thead>\n    <tr style=\"text-align: right;\">\n      <th></th>\n      <th>time</th>\n      <th>open</th>\n      <th>high</th>\n      <th>low</th>\n      <th>close</th>\n      <th>volume</th>\n      <th>Close_time</th>\n      <th>Quote_asset_volume</th>\n      <th>Number_of_trades</th>\n      <th>Taker_buy_base_asset_volume</th>\n      <th>Taker_buy_quote_asset_volume</th>\n      <th>Ignore</th>\n    </tr>\n  </thead>\n  <tbody>\n    <tr>\n      <th>0</th>\n      <td>1567987200000</td>\n      <td>10391.63</td>\n      <td>10391.63</td>\n      <td>10391.63</td>\n      <td>10391.63</td>\n      <td>0.000</td>\n      <td>1567987259999</td>\n      <td>0.000000e+00</td>\n      <td>0</td>\n      <td>0.000</td>\n      <td>0.000000e+00</td>\n      <td>0</td>\n    </tr>\n    <tr>\n      <th>1</th>\n      <td>1567987260000</td>\n      <td>10391.63</td>\n      <td>10391.63</td>\n      <td>10391.63</td>\n      <td>10391.63</td>\n      <td>0.000</td>\n      <td>1567987319999</td>\n      <td>0.000000e+00</td>\n      <td>0</td>\n      <td>0.000</td>\n      <td>0.000000e+00</td>\n      <td>0</td>\n    </tr>\n    <tr>\n      <th>2</th>\n      <td>1567987320000</td>\n      <td>10391.63</td>\n      <td>10391.63</td>\n      <td>10391.63</td>\n      <td>10391.63</td>\n      <td>0.000</td>\n      <td>1567987379999</td>\n      <td>0.000000e+00</td>\n      <td>0</td>\n      <td>0.000</td>\n      <td>0.000000e+00</td>\n      <td>0</td>\n    </tr>\n    <tr>\n      <th>3</th>\n      <td>1567987380000</td>\n      <td>10391.63</td>\n      <td>10391.63</td>\n      <td>10391.63</td>\n      <td>10391.63</td>\n      <td>0.000</td>\n      <td>1567987439999</td>\n      <td>0.000000e+00</td>\n      <td>0</td>\n      <td>0.000</td>\n      <td>0.000000e+00</td>\n      <td>0</td>\n    </tr>\n    <tr>\n      <th>4</th>\n      <td>1567987440000</td>\n      <td>10391.63</td>\n      <td>10391.63</td>\n      <td>10391.63</td>\n      <td>10391.63</td>\n      <td>0.000</td>\n      <td>1567987499999</td>\n      <td>0.000000e+00</td>\n      <td>0</td>\n      <td>0.000</td>\n      <td>0.000000e+00</td>\n      <td>0</td>\n    </tr>\n    <tr>\n      <th>...</th>\n      <td>...</td>\n      <td>...</td>\n      <td>...</td>\n      <td>...</td>\n      <td>...</td>\n      <td>...</td>\n      <td>...</td>\n      <td>...</td>\n      <td>...</td>\n      <td>...</td>\n      <td>...</td>\n      <td>...</td>\n    </tr>\n    <tr>\n      <th>515516</th>\n      <td>1598918160000</td>\n      <td>11666.84</td>\n      <td>11666.84</td>\n      <td>11658.77</td>\n      <td>11659.74</td>\n      <td>48.465</td>\n      <td>1598918219999</td>\n      <td>5.652471e+05</td>\n      <td>223</td>\n      <td>22.097</td>\n      <td>2.576819e+05</td>\n      <td>0</td>\n    </tr>\n    <tr>\n      <th>515517</th>\n      <td>1598918220000</td>\n      <td>11659.73</td>\n      <td>11660.04</td>\n      <td>11655.21</td>\n      <td>11655.22</td>\n      <td>51.387</td>\n      <td>1598918279999</td>\n      <td>5.990682e+05</td>\n      <td>245</td>\n      <td>11.315</td>\n      <td>1.318951e+05</td>\n      <td>0</td>\n    </tr>\n    <tr>\n      <th>515518</th>\n      <td>1598918280000</td>\n      <td>11655.22</td>\n      <td>11659.17</td>\n      <td>11654.00</td>\n      <td>11658.11</td>\n      <td>48.126</td>\n      <td>1598918339999</td>\n      <td>5.610001e+05</td>\n      <td>277</td>\n      <td>21.635</td>\n      <td>2.521977e+05</td>\n      <td>0</td>\n    </tr>\n    <tr>\n      <th>515519</th>\n      <td>1598918340000</td>\n      <td>11658.11</td>\n      <td>11660.53</td>\n      <td>11658.11</td>\n      <td>11658.11</td>\n      <td>78.462</td>\n      <td>1598918399999</td>\n      <td>9.147883e+05</td>\n      <td>245</td>\n      <td>21.574</td>\n      <td>2.515419e+05</td>\n      <td>0</td>\n    </tr>\n    <tr>\n      <th>515520</th>\n      <td>1598918400000</td>\n      <td>11658.11</td>\n      <td>11672.22</td>\n      <td>11653.39</td>\n      <td>11668.02</td>\n      <td>254.473</td>\n      <td>1598918459999</td>\n      <td>2.967938e+06</td>\n      <td>669</td>\n      <td>162.976</td>\n      <td>1.901060e+06</td>\n      <td>0</td>\n    </tr>\n  </tbody>\n</table>\n<p>515521 rows × 12 columns</p>\n</div>"
     },
     "metadata": {},
     "execution_count": 3
    }
   ],
   "source": [
    "import finplot as fplt\n",
    "import numpy as np\n",
    "import pandas as pd\n",
    "\n",
    "symbol = 'FUTURES BTC-USDT'\n",
    "\n",
    "#df = pd.read_csv('Binance_BTCUSDT_1m_1596240000000-1598918400000.csv')\n",
    "df = pd.read_csv('Binance_BTCUSDT_1m_1567987200000-1598918400000.csv')\n",
    "df = df.rename(columns={'Open_time':'time', 'Open':'open', 'Close':'close', 'High':'high', 'Low':'low', 'Volume':'volume'})\n",
    "#df = df.astype({'time':'datetime64[ns]'})\n",
    "df\n",
    "#df\n",
    "#data\n",
    "#print('here goes the graph')"
   ]
  },
  {
   "cell_type": "code",
   "execution_count": 4,
   "metadata": {},
   "outputs": [],
   "source": [
    "# calculate indicators\n",
    "window = 2\n",
    "maxim = df['high'].rolling(window).max()\n",
    "minim =  df['low'].rolling(window).min()\n",
    "volatility = (maxim-minim)/maxim\n",
    "\n",
    "#volatility = volatility.rolling(30).mean()\n",
    "volatility = volatility.diff()"
   ]
  },
  {
   "cell_type": "code",
   "execution_count": 14,
   "metadata": {},
   "outputs": [],
   "source": [
    "# create two plots\n",
    "ax, ax2 = fplt.create_plot(symbol, rows=2)\n",
    "\n",
    "# plot candle sticks\n",
    "candles = df[['time','open','close','high','low']]\n",
    "fplt.candlestick_ochl(candles, ax=ax)\n",
    "\n",
    "# overlay volume on the top plot\n",
    "volumes = df[['time','open','close','volume']]\n",
    "fplt.volume_ocv(volumes, ax=ax.overlay())\n",
    "\n",
    "# put an MA on the close price\n",
    "fplt.plot(df['time'], df['close'].rolling(window).mean(), ax=ax, legend='ma-25')\n",
    "fplt.plot(df['time'], maxim, ax=ax, legend='maxim')\n",
    "fplt.plot(df['time'], minim, ax=ax, legend='minim')\n",
    "\n",
    "# draw second plot\n",
    "fplt.plot(df['time'], volatility, ax=ax2, color='#927', legend='volatility')\n",
    "#fplt.set_y_range(0, 0.005, ax=ax2) # hard-code y-axis range limitation\n",
    "\n",
    "# restore view (X-position and zoom) if we ever run this example again\n",
    "fplt.autoviewrestore()\n",
    "\n",
    "# we're done\n",
    "fplt.show()"
   ]
  },
  {
   "cell_type": "markdown",
   "metadata": {},
   "source": [
    "## Create an API on Binance\n",
    "From your online Binance profile -> API Management, create an API and give it some label. An API key and secret key\n",
    "will be generated, there you can config some restrictions like a hardcode on the IP address to access and 'read' or\n",
    "'withdrawal' permissions.\n",
    "\n",
    "Once the API is created I save it in a JSON and don't share it with anyone, it´s better if you save it because the\n",
    "secret key will be visible for sometime and then forever hidden, to dump in a json you can use the following simple\n",
    "code:"
   ]
  },
  {
   "cell_type": "code",
   "execution_count": null,
   "metadata": {
    "pycharm": {
     "name": "#%%\n"
    }
   },
   "outputs": [],
   "source": [
    "# create a json file with my keys\n",
    "api_key = 'my_beautiful_key'\n",
    "secret_key = 'life_is_wonderful'\n",
    "filename = 'binance-python-credentials.json'\n",
    "\n",
    "json.dump(dict(api_key=api_key, secret_key=secret_key), open(filename, 'w'))\n"
   ]
  }
 ],
 "metadata": {
  "kernelspec": {
   "display_name": "Python 3.8.2 32-bit ('venv': venv)",
   "language": "python",
   "name": "python_defaultSpec_1599442247961"
  },
  "language_info": {
   "codemirror_mode": {
    "name": "ipython",
    "version": 3
   },
   "file_extension": ".py",
   "mimetype": "text/x-python",
   "name": "python",
   "nbconvert_exporter": "python",
   "pygments_lexer": "ipython3",
   "version": "3.8.2-final"
  }
 },
 "nbformat": 4,
 "nbformat_minor": 1
}