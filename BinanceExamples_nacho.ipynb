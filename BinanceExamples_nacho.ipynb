{
 "cells": [
  {
   "cell_type": "markdown",
   "metadata": {
    "collapsed": true,
    "pycharm": {
     "name": "#%% md\n"
    }
   },
   "source": [
    "# Using Binance API feeding\n",
    "\n",
    "Here goes the link, explanation and all that.\n",
    "https://github.com/sammchardy/python-binance"
   ]
  },
  {
   "cell_type": "code",
   "execution_count": null,
   "metadata": {
    "pycharm": {
     "name": "#%%\n"
    }
   },
   "outputs": [],
   "source": [
    "# here goes all the imports just because\n",
    "import json\n",
    "from binance.client import Client\n",
    "from Examples.externalized_functions import get_historical_klines, date_to_milliseconds, get_futures_historical_klines\n",
    "import pandas as pd\n",
    "\n",
    "\n",
    "print('feed me daddy')"
   ]
  },
  {
   "cell_type": "markdown",
   "metadata": {
    "pycharm": {
     "name": "#%% md\n"
    }
   },
   "source": [
    "## Using a Client object to get historical data\n",
    "It´s not necessary to create an API to get historical data from Binance, we can use a dummy client with\n",
    "empty '' keys to get data."
   ]
  },
  {
   "cell_type": "code",
   "execution_count": 3,
   "metadata": {
    "pycharm": {
     "name": "#%%\n"
    }
   },
   "outputs": [],
   "source": [
    "# set some parameters\n",
    "symbol = \"BTCUSDT\"  # trade-pair to extract\n",
    "start = \"9 Sep, 2019\"  # yes\n",
    "end = \"1 Sep, 2020\"  # uhu\n",
    "interval = Client.KLINE_INTERVAL_1MINUTE  # granularity\n",
    "fileout = \"Binance_{}_{}_{}-{}.csv\".format(symbol, interval, date_to_milliseconds(start), date_to_milliseconds(end))\n",
    "\n",
    "# let's get it\n",
    "lines = get_futures_historical_klines(symbol, interval, start, end)\n",
    "\n",
    "# convert to dataframe so we can keep playing and save it to a csv file\n",
    "columns = ['Open_time', 'Open', 'High', 'Low','Close', 'Volume', 'Close_time', 'Quote_asset_volume',\n",
    "           'Number_of_trades', 'Taker_buy_base_asset_volume', 'Taker_buy_quote_asset_volume', 'Ignore']\n",
    "df = pd.DataFrame(lines, columns=columns)\n",
    "df.to_csv(fileout, index=False)"
   ]
  },
  {
   "cell_type": "markdown",
   "metadata": {
    "pycharm": {
     "name": "#%% md\n"
    }
   },
   "source": [
    "## Plotting some data extracted\n",
    "\n",
    "Let´s make some graphs just out of curiosity."
   ]
  },
  {
   "cell_type": "code",
   "execution_count": null,
   "metadata": {
    "pycharm": {
     "name": "#%%\n"
    }
   },
   "outputs": [],
   "source": [
    "import finplot as fplt\n",
    "import numpy as np\n",
    "import pandas as pd\n",
    "\n",
    "symbol = 'FUTURES BTC-USDT'\n",
    "\n",
    "#df = pd.read_csv('Binance_BTCUSDT_1m_1596240000000-1598918400000.csv')\n",
    "df = pd.read_csv('Binance_BTCUSDT_1m_1567987200000-1598918400000.csv')\n",
    "df = df.rename(columns={'Open_time':'time', 'Open':'open', 'Close':'close', 'High':'high', 'Low':'low', 'Volume':'volume'})\n",
    "#df = df.astype({'time':'datetime64[ns]'})\n",
    "df\n",
    "#df\n",
    "#data\n",
    "#print('here goes the graph')"
   ]
  },
  {
   "cell_type": "code",
   "execution_count": null,
   "metadata": {},
   "outputs": [],
   "source": [
    "# create two plots\n",
    "ax = fplt.create_plot(symbol, rows=1)\n",
    "\n",
    "# plot candle sticks\n",
    "candles = df[['time','open','close','high','low']]\n",
    "fplt.candlestick_ochl(candles, ax=ax)\n",
    "\n",
    "# overlay volume on the top plot\n",
    "volumes = df[['time','open','close','volume']]\n",
    "fplt.volume_ocv(volumes, ax=ax.overlay())\n",
    "\n",
    "# restore view (X-position and zoom) if we ever run this example again\n",
    "#fplt.autoviewrestore()\n",
    "\n",
    "# we're done\n",
    "fplt.show()"
   ]
  },
  {
   "cell_type": "markdown",
   "metadata": {},
   "source": [
    "## Create an API on Binance\n",
    "From your online Binance profile -> API Management, create an API and give it some label. An API key and secret key\n",
    "will be generated, there you can config some restrictions like a hardcode on the IP address to access and 'read' or\n",
    "'withdrawal' permissions.\n",
    "\n",
    "Once the API is created I save it in a JSON and don't share it with anyone, it´s better if you save it because the\n",
    "secret key will be visible for sometime and then forever hidden, to dump in a json you can use the following simple\n",
    "code:"
   ]
  },
  {
   "cell_type": "code",
   "execution_count": null,
   "metadata": {
    "pycharm": {
     "name": "#%%\n"
    }
   },
   "outputs": [],
   "source": [
    "# create a json file with my keys\n",
    "api_key = 'my_beautiful_key'\n",
    "secret_key = 'life_is_wonderful'\n",
    "filename = 'binance-python-credentials.json'\n",
    "\n",
    "json.dump(dict(api_key=api_key, secret_key=secret_key), open(filename, 'w'))\n"
   ]
  }
 ],
 "metadata": {
  "kernelspec": {
   "display_name": "Python 3",
   "language": "python",
   "name": "python3"
  },
  "language_info": {
   "codemirror_mode": {
    "name": "ipython",
    "version": 3
   },
   "file_extension": ".py",
   "mimetype": "text/x-python",
   "name": "python",
   "nbconvert_exporter": "python",
   "pygments_lexer": "ipython3",
   "version": "3.8.2"
  }
 },
 "nbformat": 4,
 "nbformat_minor": 1
}
